{
 "cells": [
  {
   "cell_type": "code",
   "execution_count": 1,
   "metadata": {},
   "outputs": [],
   "source": [
    "import xml.dom.minidom\n",
    "\n",
    "# init time\n",
    "# 2018-08-30T06:00:00Z\n",
    "initHour=6\n",
    "initMin=0\n",
    "initSec=0\n",
    "persec=10\n",
    "\n",
    "\n",
    "dom1 = xml.dom.minidom.parse('gpx4.xml')\n",
    "root = dom1.documentElement\n",
    "wptNum=root.getElementsByTagName('wpt').length\n",
    "time = root.getElementsByTagName('time') #get <time> list\n",
    "\n",
    "nowHour=initHour\n",
    "nowMin=initMin\n",
    "nowSec=initSec\n",
    "nowTime=''\n",
    "#skip first <time> and choose second <time>\n",
    "for n in range(1+wptNum,time.length):\n",
    "    if nowHour>=10:\n",
    "        nowTime='2018-08-30T'\n",
    "    else:\n",
    "        nowTime='2018-08-30T0'\n",
    "    if nowMin>=10:\n",
    "        nowTime=nowTime+str(nowHour)+':'+str(nowMin)+':'\n",
    "    else:\n",
    "        nowTime=nowTime+str(nowHour)+':0'+str(nowMin)+':'\n",
    "    if nowSec>=10:\n",
    "        nowTime=nowTime+str(nowSec)+'Z'\n",
    "    else:\n",
    "        nowTime=nowTime+'0'+str(nowSec)+'Z'\n",
    "    \n",
    "    timeNode=time[n]\n",
    "#     print(timeNode.childNodes[0].data)\n",
    "    timeNode.childNodes[0].data=nowTime\n",
    "#     print(timeNode.childNodes[0].data,'=>',nowTime)\n",
    "    \n",
    "# plus time\n",
    "    nowSec=nowSec+persec\n",
    "    if (nowSec/60)==1:\n",
    "        nowSec=0\n",
    "        nowMin=nowMin+1\n",
    "        if (nowMin/60)==1:\n",
    "            nowMin=0\n",
    "            nowHour=nowHour+1\n",
    "            \n",
    "f =  open(\"test1.xml\", \"w\")\n",
    "f.write(dom1.toxml())\n",
    "f.close()"
   ]
  },
  {
   "cell_type": "code",
   "execution_count": null,
   "metadata": {},
   "outputs": [],
   "source": []
  }
 ],
 "metadata": {
  "kernelspec": {
   "display_name": "Python 3",
   "language": "python",
   "name": "python3"
  },
  "language_info": {
   "codemirror_mode": {
    "name": "ipython",
    "version": 3
   },
   "file_extension": ".py",
   "mimetype": "text/x-python",
   "name": "python",
   "nbconvert_exporter": "python",
   "pygments_lexer": "ipython3",
   "version": "3.6.4"
  }
 },
 "nbformat": 4,
 "nbformat_minor": 2
}
